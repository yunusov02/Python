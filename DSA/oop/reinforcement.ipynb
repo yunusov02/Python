{
 "cells": [
  {
   "cell_type": "markdown",
   "metadata": {},
   "source": [
    "### Each Object is an instanceof a class\n",
    "\n"
   ]
  },
  {
   "cell_type": "markdown",
   "metadata": {},
   "source": []
  },
  {
   "cell_type": "code",
   "execution_count": 2,
   "metadata": {},
   "outputs": [
    {
     "data": {
      "text/plain": [
       "[3, 6, 9, 12, 15]"
      ]
     },
     "execution_count": 2,
     "metadata": {},
     "output_type": "execute_result"
    }
   ],
   "source": [
    "array = [1, 2, 3, 4, 5]\n",
    "\n",
    "def multipy(array, factor=3):\n",
    "    for i in range(len(array)):\n",
    "        array[i] *= factor\n",
    "\n",
    "multipy(array)\n",
    "array"
   ]
  },
  {
   "cell_type": "code",
   "execution_count": 2,
   "metadata": {},
   "outputs": [],
   "source": [
    "class CreditCard:\n",
    "    def __init__(self, customer, bank, acnt, limit):\n",
    "\n",
    "        \"\"\"Create a new credit card instance\n",
    "            \n",
    "        The initial balance is zero.\n",
    "        \n",
    "        customer    the name of the customer\n",
    "        bank        the name of the bank\n",
    "        acnt        the acount identiﬁer\n",
    "        limit       credit limit (measured in dollars)\n",
    "\n",
    "        \"\"\"\n",
    "        self._customer = customer\n",
    "        self._bank = bank\n",
    "        self._account = acnt\n",
    "        self._limit = limit\n",
    "        self._balance = 0\n",
    "\n",
    "    def get_customer(self):\n",
    "        return self._customer\n",
    "    \n",
    "    def get_bank(self):\n",
    "        return self._bank\n",
    "    \n",
    "    def get_account(self):\n",
    "        return self._account\n",
    "    \n",
    "    def get_limit(self):\n",
    "        return self._limit\n",
    "    \n",
    "    def charge(self, price):\n",
    "        if price + self._balance > self._limit:\n",
    "            return False\n",
    "\n",
    "        self._balance += price"
   ]
  },
  {
   "cell_type": "code",
   "execution_count": null,
   "metadata": {},
   "outputs": [],
   "source": [
    "# Sequence Iterator\n",
    "\n",
    "class SequenceIterator:\n",
    "    \n",
    "    def __init__(self, sequence):\n",
    "        self._sequence = sequence\n",
    "        self._k = - 1\n",
    "\n",
    "    def __next__(self):\n",
    "        self._k += 1\n",
    "\n",
    "        if self._k < len(self._sequence):\n",
    "            return self._sequence[self._k]\n",
    "        raise StopIteration()\n",
    "    \n",
    "    def __iter__(self):\n",
    "        return self"
   ]
  },
  {
   "cell_type": "code",
   "execution_count": null,
   "metadata": {},
   "outputs": [],
   "source": [
    "# 2.1\n",
    "class Flower:\n",
    "    def __init__(self, name: str, quantity: int, price: float):\n",
    "        self.name = name\n",
    "        self.quantity = quantity\n",
    "        self.price = price\n"
   ]
  }
 ],
 "metadata": {
  "kernelspec": {
   "display_name": "Python 3",
   "language": "python",
   "name": "python3"
  },
  "language_info": {
   "codemirror_mode": {
    "name": "ipython",
    "version": 3
   },
   "file_extension": ".py",
   "mimetype": "text/x-python",
   "name": "python",
   "nbconvert_exporter": "python",
   "pygments_lexer": "ipython3",
   "version": "3.12.3"
  }
 },
 "nbformat": 4,
 "nbformat_minor": 2
}
