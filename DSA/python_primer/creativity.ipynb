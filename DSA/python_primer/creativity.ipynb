{
 "cells": [
  {
   "cell_type": "code",
   "execution_count": 4,
   "metadata": {},
   "outputs": [
    {
     "name": "stdout",
     "output_type": "stream",
     "text": [
      "[5, 4, 3, 2, 1]\n",
      "None\n",
      "[5, 4, 3, 2, 1]\n"
     ]
    }
   ],
   "source": [
    "def reverse_array(array: list[int]):\n",
    "    start = 0\n",
    "    end = len(array) - 1\n",
    "\n",
    "    while start != end:\n",
    "        array[start], array[end] = array[end], array[start]\n",
    "\n",
    "        start += 1\n",
    "        end -= 1\n",
    "\n",
    "    print(array)\n",
    "\n",
    "array = [1, 2, 3, 4, 5]\n",
    "\n",
    "print(reverse_array(array))\n",
    "print(array)\n"
   ]
  },
  {
   "cell_type": "code",
   "execution_count": 7,
   "metadata": {},
   "outputs": [
    {
     "name": "stdout",
     "output_type": "stream",
     "text": [
      "[(1, 3), (1, 5), (1, 7), (3, 5), (3, 7), (5, 7)]\n"
     ]
    }
   ],
   "source": [
    "array = [1, 2, 3, 4, 5, 6, 7, 8]\n",
    "\n",
    "pairs = [(array[i], array[j]) for i in range(len(array) - 1) for j in range(i+1, len(array)) if array[i] * array[j] % 2 == 1]\n",
    "print(pairs)"
   ]
  },
  {
   "cell_type": "code",
   "execution_count": 11,
   "metadata": {},
   "outputs": [
    {
     "data": {
      "text/plain": [
       "False"
      ]
     },
     "execution_count": 11,
     "metadata": {},
     "output_type": "execute_result"
    }
   ],
   "source": [
    "array = [1, 3, 4, 5, 6, 7, 8, 2, 9, 2]\n",
    "\n",
    "def is_distinct_values_with_loop(array: list[int]):\n",
    "    for i in range(len(array) - 1):\n",
    "        for j in range(i + 1, len(array)):\n",
    "            if array[i] == array[j]:\n",
    "                return False\n",
    "    return True\n",
    "\n",
    "\n",
    "\n",
    "# is_distinct_values_with_loop(array)\n",
    "\n",
    "\n",
    "def is_distinct_values_with_set(array: list[int]):\n",
    "    seen = set()\n",
    "    for num in array:\n",
    "        if num in seen:\n",
    "            return False\n",
    "        seen.add(num)\n",
    "is_distinct_values_with_set(array)"
   ]
  },
  {
   "cell_type": "code",
   "execution_count": 12,
   "metadata": {},
   "outputs": [
    {
     "data": {
      "text/plain": [
       "[0, 2, 6, 12, 20, 30, 42, 56, 72]"
      ]
     },
     "execution_count": 12,
     "metadata": {},
     "output_type": "execute_result"
    }
   ],
   "source": [
    "array = [i * (i - 1) for i in range(1, 10)]\n",
    "array"
   ]
  },
  {
   "cell_type": "code",
   "execution_count": null,
   "metadata": {},
   "outputs": [],
   "source": []
  }
 ],
 "metadata": {
  "kernelspec": {
   "display_name": "venv",
   "language": "python",
   "name": "python3"
  },
  "language_info": {
   "codemirror_mode": {
    "name": "ipython",
    "version": 3
   },
   "file_extension": ".py",
   "mimetype": "text/x-python",
   "name": "python",
   "nbconvert_exporter": "python",
   "pygments_lexer": "ipython3",
   "version": "3.12.3"
  }
 },
 "nbformat": 4,
 "nbformat_minor": 2
}
