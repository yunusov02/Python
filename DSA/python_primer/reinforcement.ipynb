{
 "cells": [
  {
   "cell_type": "code",
   "execution_count": 2,
   "metadata": {},
   "outputs": [
    {
     "name": "stdout",
     "output_type": "stream",
     "text": [
      "False\n",
      "True\n"
     ]
    }
   ],
   "source": [
    "def is_multiple(a: int, b: int):\n",
    "    if a % b == 0:\n",
    "        return True\n",
    "    return False\n",
    "\n",
    "print(is_multiple(5, 3))\n",
    "print(is_multiple(8, 2))"
   ]
  },
  {
   "cell_type": "code",
   "execution_count": 3,
   "metadata": {},
   "outputs": [],
   "source": [
    "def is_even(a: int):\n",
    "    if a % 2 == 0:\n",
    "        return True\n",
    "    return False"
   ]
  },
  {
   "cell_type": "code",
   "execution_count": 8,
   "metadata": {},
   "outputs": [
    {
     "name": "stdout",
     "output_type": "stream",
     "text": [
      "Smallest 0\n",
      "Largest 1\n"
     ]
    }
   ],
   "source": [
    "def minmax(data):\n",
    "    smallest = data[0]\n",
    "    largest = data[0]\n",
    "\n",
    "    for i in range(1, len(data)):\n",
    "        if smallest > data[i]:\n",
    "            smallest = data[i]\n",
    "        if largest < data[i]:\n",
    "            largest = data[i]\n",
    "\n",
    "    return smallest, largest\n",
    "\n",
    "array = [1, 0, 0, 0, 0]\n",
    "\n",
    "smallest, largest = minmax(array)\n",
    "print(\"Smallest\", smallest)\n",
    "print(\"Largest\", largest)"
   ]
  },
  {
   "cell_type": "code",
   "execution_count": 15,
   "metadata": {},
   "outputs": [
    {
     "name": "stdout",
     "output_type": "stream",
     "text": [
      "55\n"
     ]
    }
   ],
   "source": [
    "total = 0\n",
    "counter = 1\n",
    "\n",
    "num = int(input(\"Enter a number: \"))\n",
    "\n",
    "while counter <= num:\n",
    "    total += counter ** 2\n",
    "    counter += 1\n",
    "\n",
    "print(total)"
   ]
  },
  {
   "cell_type": "code",
   "execution_count": 16,
   "metadata": {},
   "outputs": [
    {
     "name": "stdout",
     "output_type": "stream",
     "text": [
      "455\n"
     ]
    }
   ],
   "source": [
    "def odd_square(num: int):\n",
    "    total = 0\n",
    "\n",
    "    for count in range(1, num, 2):\n",
    "        total += count ** 2\n",
    "\n",
    "    return total\n",
    "\n",
    "print(odd_square(15))"
   ]
  },
  {
   "cell_type": "code",
   "execution_count": 17,
   "metadata": {},
   "outputs": [
    {
     "data": {
      "text/plain": [
       "10"
      ]
     },
     "execution_count": 17,
     "metadata": {},
     "output_type": "execute_result"
    }
   ],
   "source": [
    "num = 5\n",
    "sum(map(lambda x: x ** 2, filter(lambda x: x % 2 != 0, range(1, num))))\n"
   ]
  }
 ],
 "metadata": {
  "kernelspec": {
   "display_name": "venv",
   "language": "python",
   "name": "python3"
  },
  "language_info": {
   "codemirror_mode": {
    "name": "ipython",
    "version": 3
   },
   "file_extension": ".py",
   "mimetype": "text/x-python",
   "name": "python",
   "nbconvert_exporter": "python",
   "pygments_lexer": "ipython3",
   "version": "3.12.3"
  }
 },
 "nbformat": 4,
 "nbformat_minor": 2
}
