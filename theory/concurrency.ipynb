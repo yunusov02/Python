{
 "cells": [
  {
   "cell_type": "markdown",
   "metadata": {},
   "source": [
    "# Multithreading\n",
    "\n",
    "When we execute the `python3 main.py` command the Python interpretator(CPython) compiles the main.py file into machine code. And then the OS needs to load the program into the memory (RAM) to run the program.\n",
    "\n",
    "Once the OS load the program to memory, it moves the instructions to the CPU for execution via bus\n",
    "\n",
    "In general the OS moves the instructions to a queue, also known as a pipline. Then CPU will execute the insructions from the pipline\n",
    "\n",
    "**By defenition a process is an instance of a program running on a computer. And a threads is a unit of execution within a process**\n",
    "\n",
    "Notice that if you launch a program multiple times, you will have single program bu multiple processes, each representing an instance of the program\n",
    "\n",
    "![image](../images/run_python_program.png)\n",
    "\n",
    "A program may have one or more processes and a processes can have one or more threads.\n",
    "\n",
    "When a program has multiple processes, it's called **multiprocessing**. If a program has multiple threads, it's called **multithreading**\n",
    "\n",
    "\n",
    "To execute multiple processes \"at the same time\", the OS uses a software component called a **scheduler**.\n",
    "\n",
    "![image](../images/softeware_scheduler.png)\n",
    "\n",
    "The scheduler is like a switch that schedules processes. The main tasks of the scheduler is to select the instructions and submit them from execution regularly\n",
    "\n",
    "The scheduler switches between processes so quickly (around 1ms) that it creates the illusion of the computer being able to execute multiple processes simultaneously.\n",
    "\n",
    "Today the CPU often has multiple cores and the number of cores will determine the number of processes that the CPU can execute simultaneusly.\n",
    "\n"
   ]
  },
  {
   "cell_type": "markdown",
   "metadata": {},
   "source": [
    "## Single-threaded applications"
   ]
  },
  {
   "cell_type": "code",
   "execution_count": 1,
   "metadata": {},
   "outputs": [
    {
     "name": "stdout",
     "output_type": "stream",
     "text": [
      "Starting a task...\n",
      "DONE\n",
      "Starting a task...\n",
      "DONE\n",
      "It took 2.0006959089998873 second(s) to complete\n"
     ]
    }
   ],
   "source": [
    "from time import sleep, perf_counter\n",
    "\n",
    "def task():\n",
    "    print(\"Starting a task...\")\n",
    "    sleep(1)\n",
    "    print(\"DONE\")\n",
    "\n",
    "\n",
    "start_time = perf_counter()\n",
    "\n",
    "task()\n",
    "task()\n",
    "\n",
    "end_time = perf_counter()\n",
    "\n",
    "print(f\"It took {end_time - start_time} second(s) to complete\")"
   ]
  },
  {
   "cell_type": "markdown",
   "metadata": {},
   "source": [
    "![image](../images/therad_time.png)"
   ]
  },
  {
   "cell_type": "markdown",
   "metadata": {},
   "source": [
    "Using with Python threading "
   ]
  },
  {
   "cell_type": "code",
   "execution_count": 3,
   "metadata": {},
   "outputs": [
    {
     "name": "stdout",
     "output_type": "stream",
     "text": [
      "Starting a task...\n",
      "Starting a task...\n",
      "Done\n",
      "Done\n",
      "Another Time\n",
      "Another Time\n",
      "It took 3.001933607999945 second(s) to complete\n"
     ]
    }
   ],
   "source": [
    "from time import sleep, perf_counter\n",
    "from threading import Thread\n",
    "\n",
    "def task():\n",
    "    print(\"Starting a task...\")\n",
    "    sleep(1)\n",
    "    print(\"Done\")\n",
    "    sleep(2)\n",
    "    print(\"Another Time\")\n",
    "\n",
    "start_time = perf_counter()\n",
    "\n",
    "t1 = Thread(target=task)\n",
    "t2 = Thread(target=task)\n",
    "\n",
    "t1.start()\n",
    "t2.start()\n",
    "\n",
    "t1.join()\n",
    "t2.join()\n",
    "\n",
    "end_time = perf_counter()\n",
    "\n",
    "print(f\"It took {end_time - start_time} second(s) to complete\")"
   ]
  },
  {
   "cell_type": "markdown",
   "metadata": {},
   "source": [
    "Whent the program executes, It'll have three threads: **the main thread and two other child threads**\n",
    "\n",
    "![image](../images/thread_example.png)"
   ]
  },
  {
   "cell_type": "code",
   "execution_count": 5,
   "metadata": {},
   "outputs": [
    {
     "name": "stdout",
     "output_type": "stream",
     "text": [
      "Starting the task 1\n",
      "Starting the task 2\n",
      "Starting the task 3\n",
      "Starting the task 4\n",
      "Starting the task 5\n",
      "Starting the task 6\n",
      "Starting the task 7\n",
      "Starting the task 8\n",
      "Starting the task 9\n",
      "Starting the task 10\n",
      "The task 1 completed\n",
      "The task 2 completed\n",
      "The task 3 completed\n",
      "The task 4 completed\n",
      "The task 5 completed\n",
      "The task 6 completed\n",
      "The task 7 completed\n",
      "The task 8 completed\n",
      "The task 9 completed\n",
      "The task 10 completed\n",
      "It took 1.003576738999982 second(s) to complete\n"
     ]
    }
   ],
   "source": [
    "from time import sleep, perf_counter\n",
    "from threading import Thread\n",
    "\n",
    "def task(id):\n",
    "    print(f\"Starting the task {id}\")\n",
    "    sleep(1)\n",
    "    print(f\"The task {id} completed\")\n",
    "\n",
    "\n",
    "start_time = perf_counter()\n",
    "\n",
    "threads = []\n",
    "for i in range(1, 11):\n",
    "    t = Thread(target=task, args=(i, ))\n",
    "\n",
    "    threads.append(t)\n",
    "    t.start()\n",
    "\n",
    "for thread in threads:\n",
    "    thread.join()\n",
    "\n",
    "end_time = perf_counter()\n",
    "\n",
    "print(f\"It took {end_time - start_time} second(s) to complete\")\n"
   ]
  },
  {
   "cell_type": "code",
   "execution_count": 9,
   "metadata": {},
   "outputs": [
    {
     "name": "stdout",
     "output_type": "stream",
     "text": [
      "Processing the file files/test1.txt\n",
      "Opening file to read\n",
      "Processing the file files/test2.txt\n",
      "Opening file to read\n",
      "Processing the file files/test3.txt\n",
      "Opening file to read\n",
      "Opening file to write\n",
      "Processing the file files/test4.txt\n",
      "Opening file to read\n",
      "Opening file to write\n",
      "Opening file to write\n",
      "Processing the file files/test5.txt\n",
      "Opening file to read\n",
      "Opening file to write\n",
      "Processing the file files/test6.txt\n",
      "Opening file to read\n",
      "Opening file to write\n",
      "Processing the file files/test7.txt\n",
      "Opening file to read\n",
      "Processing the file files/test8.txt\n",
      "Opening file to read\n",
      "Processing the file files/test9.txt\n",
      "Opening file to read\n",
      "Opening file to write\n",
      "Opening file to write\n",
      "Opening file to write\n",
      "Opening file to write\n",
      "Processing the file files/test10.txt\n",
      "Opening file to read\n",
      "Opening file to write\n",
      "It took 0.007595904000027076 second(s) to complete\n"
     ]
    }
   ],
   "source": [
    "from time import perf_counter\n",
    "\n",
    "def replace(filename, substr, new_substr):\n",
    "    print(f\"Processing the file {filename}\")\n",
    "\n",
    "    print(\"Opening file to read\")\n",
    "    with open(filename, \"r\") as f:\n",
    "        content = f.read()\n",
    "\n",
    "    content = content.replace(substr, new_substr)\n",
    "\n",
    "    print(\"Opening file to write\")\n",
    "    with open(filename, \"w\") as f:\n",
    "        f.write(content)\n",
    "\n",
    "\n",
    "def main():\n",
    "    filenames = [f\"files/test{i}.txt\" for i in range(1, 11)]\n",
    "\n",
    "    threads =[Thread(target=replace, args=(filename, \"ids\", \"id\")) for filename in filenames]\n",
    "    \n",
    "    for thread in threads:\n",
    "        thread.start()\n",
    "\n",
    "    for thread in threads:\n",
    "        thread.join()\n",
    "\n",
    "\n",
    "    \n",
    "if __name__ == \"__main__\":\n",
    "    start_time = perf_counter()\n",
    "\n",
    "    main()\n",
    "\n",
    "    end_time = perf_counter()\n",
    "\n",
    "    print(f\"It took {end_time - start_time} second(s) to complete\")\n",
    "\n",
    "\n",
    "# first create files run this command `touch test{1..11}.txt`\n",
    "# and then write something inside file `for f in test{1..11}.txt; do echo -e \"ids\" >> $f; done`"
   ]
  },
  {
   "cell_type": "markdown",
   "metadata": {},
   "source": [
    "## Introduction to Python Thread Class\n",
    "\n",
    "When a Python program starts it has a thread called the main thread. Sometimes you want to offload the I/O bound tasks to a new thread to execute them concurrently\n"
   ]
  },
  {
   "cell_type": "code",
   "execution_count": 11,
   "metadata": {},
   "outputs": [
    {
     "name": "stdout",
     "output_type": "stream",
     "text": [
      "Checking https://httpstat.us/200...\n",
      "200\n"
     ]
    }
   ],
   "source": [
    "from threading import Thread\n",
    "import urllib.error\n",
    "import urllib.request\n",
    "\n",
    "class HttpRequestThread(Thread):\n",
    "    def __init__(self, url: str):\n",
    "        super().__init__()\n",
    "        self.url = url\n",
    "    \n",
    "    def run(self):\n",
    "        print(f\"Checking {self.url}...\")\n",
    "\n",
    "        try:\n",
    "            response = urllib.request.urlopen(self.url)\n",
    "            print(response.code)\n",
    "        except urllib.error.HTTPError as e:\n",
    "            print(e.code)\n",
    "        except urllib.error.URLError as e:\n",
    "            print(e.reason)\n",
    "    \n",
    "def main():\n",
    "    urls = [\n",
    "        'https://httpstat.us/200',\n",
    "        'https://httpstat.us/400'\n",
    "    ]\n",
    "\n",
    "    threads = [HttpRequestThread(url) for url in urls]\n",
    "    \n",
    "    [t.start() for t in threads]\n",
    "    [t.join() for t in threads]\n",
    "\n",
    "if __name__ == \"__main__\":\n",
    "    main()"
   ]
  },
  {
   "cell_type": "markdown",
   "metadata": {},
   "source": [
    "## Python Daemon Threads\n",
    "\n",
    "Sometimes you may want to execute a task in the background. To do that you use a special kind of thread called a daemon thread\n",
    "\n",
    "By defenition **daemon threads** are background threads. In other words daemon threads execute tasks in the background.\n",
    "\n",
    "For example:\n",
    "- Log Information to a file in the background\n",
    "- Scrap contents from a website in the background\n",
    "- Auto-save the data into database in the background\n"
   ]
  },
  {
   "cell_type": "markdown",
   "metadata": {},
   "source": [
    "### A daemon Thread Example\n"
   ]
  },
  {
   "cell_type": "code",
   "execution_count": null,
   "metadata": {},
   "outputs": [],
   "source": [
    "from threading import Thread\n",
    "import time\n",
    "\n",
    "def show_timer():\n",
    "    counter = 0\n",
    "     \n",
    "    while True:\n",
    "        counter += 1\n",
    "        time.sleep(1)\n",
    "        print(f\"Has been waiting for {counter} second(s)...\")\n",
    "\n",
    "t = Thread(target=show_timer)\n",
    "t.start()\n",
    "answer = input(\"Do you want to exit?\\n\")"
   ]
  },
  {
   "cell_type": "markdown",
   "metadata": {},
   "source": [
    "### Thread Pools\n",
    "\n",
    "Manually managing threads is not efficient because creating and destroying many threads frequently are very expensive in terms of computational costs\n",
    "\n",
    "Instead of doing so, you may want to reuse the threads if you expect to runmany ad-hoc tasks in the program A thread pool allows you to achive this\n",
    "\n",
    "![image](../images/thread_pool_executor.svg)\n",
    "\n",
    "![image](../images/thread_pool_executor_example.png)"
   ]
  },
  {
   "cell_type": "code",
   "execution_count": 15,
   "metadata": {},
   "outputs": [
    {
     "name": "stdout",
     "output_type": "stream",
     "text": [
      "Starting the task: 1\n",
      "Starting the task: 2\n",
      "Done with task 1\n",
      "Done with task 2\n",
      "It took 1.0015631039996151 second(s) to finish.\n"
     ]
    }
   ],
   "source": [
    "from time import sleep, perf_counter\n",
    "from concurrent.futures import ThreadPoolExecutor\n",
    "\n",
    "def task(id):\n",
    "    print(f\"Starting the task: {id}\")\n",
    "    sleep(1)\n",
    "    return f\"Done with task {id}\"\n",
    "\n",
    "start = perf_counter()\n",
    "\n",
    "with ThreadPoolExecutor() as executor:\n",
    "    f1 = executor.submit(task, 1)\n",
    "    f2 = executor.submit(task, 2)\n",
    "\n",
    "    print(f1.result())\n",
    "    print(f2.result())\n",
    "\n",
    "end = perf_counter()\n",
    "\n",
    "print(f\"It took {end-start} second(s) to finish.\")"
   ]
  },
  {
   "cell_type": "code",
   "execution_count": 16,
   "metadata": {},
   "outputs": [
    {
     "name": "stdout",
     "output_type": "stream",
     "text": [
      "Starting the task 1...\n",
      "Starting the task 2...\n",
      "Done with task 1\n",
      "Done with task 2\n",
      "It took 1.0015038800002003 second(s) to finish.\n"
     ]
    }
   ],
   "source": [
    "from time import sleep, perf_counter\n",
    "from concurrent.futures import ThreadPoolExecutor\n",
    "\n",
    "\n",
    "def task(id):\n",
    "    print(f'Starting the task {id}...')\n",
    "    sleep(1)\n",
    "    return f'Done with task {id}'\n",
    "\n",
    "start = perf_counter()\n",
    "\n",
    "with ThreadPoolExecutor() as executor:\n",
    "    results = executor.map(task, [1,2])\n",
    "    for result in results:\n",
    "        print(result)\n",
    "\n",
    "finish = perf_counter()\n",
    "\n",
    "print(f\"It took {finish-start} second(s) to finish.\")"
   ]
  },
  {
   "cell_type": "markdown",
   "metadata": {},
   "source": [
    "# Thread Synchronization\n",
    "\n",
    "A race condition occurs when two or more threads try to access a shared variable simultaneously,leading to unpredictable outcomes.\n",
    "\n",
    "The final value of shared variable depends on which thread completes its update last. Whatever thread that changes the valuue last will win the race"
   ]
  },
  {
   "cell_type": "markdown",
   "metadata": {},
   "source": [
    "**Race Condition example**"
   ]
  },
  {
   "cell_type": "code",
   "execution_count": 2,
   "metadata": {},
   "outputs": [
    {
     "name": "stdout",
     "output_type": "stream",
     "text": [
      "Counter=10\n",
      "Counter=20\n",
      "Final counter is 20\n"
     ]
    }
   ],
   "source": [
    "from threading import Thread\n",
    "from time import sleep\n",
    "\n",
    "counter = 0\n",
    "\n",
    "def increase(by):\n",
    "    global counter\n",
    "\n",
    "    local_counter = counter\n",
    "    local_counter += by\n",
    "\n",
    "    sleep(1)\n",
    "\n",
    "    counter = local_counter\n",
    "\n",
    "    print(f\"Counter={counter}\")\n",
    "\n",
    "t1 = Thread(target=increase, args=(10, ))\n",
    "t2 = Thread(target=increase, args=(20, ))\n",
    "\n",
    "t1.start()\n",
    "t2.start()\n",
    "\n",
    "t1.join()\n",
    "t2.join()\n",
    "\n",
    "print(f\"Final counter is {counter}\")"
   ]
  },
  {
   "cell_type": "markdown",
   "metadata": {},
   "source": [
    "### Using a threading lock to prevent the race condition\n",
    "\n",
    "To prevent race condition you can use a threading lock\n",
    "\n",
    "A **threading lock** is a synchronization primative that provides exclusive access to a shared resource in a multithreaded application. A thread lock aslo known as a mutex which is short for mutal exclusion\n"
   ]
  },
  {
   "cell_type": "code",
   "execution_count": 3,
   "metadata": {},
   "outputs": [
    {
     "name": "stdout",
     "output_type": "stream",
     "text": [
      "Counter10\n",
      "Counter30\n",
      "The final counter is 30\n"
     ]
    }
   ],
   "source": [
    "from threading import Thread, Lock\n",
    "from time import sleep\n",
    "\n",
    "counter = 0\n",
    "\n",
    "def increase(by, lock: Lock):\n",
    "    global counter\n",
    "\n",
    "    lock.acquire()\n",
    "\n",
    "    local_counter = counter\n",
    "    local_counter += by\n",
    "\n",
    "    counter = local_counter\n",
    "\n",
    "    print(f\"Counter{counter}\")\n",
    "\n",
    "    lock.release()\n",
    "\n",
    "lock = Lock()\n",
    "\n",
    "t1 = Thread(target=increase, args=(10, lock))\n",
    "t2 = Thread(target=increase, args=(20, lock))\n",
    "\n",
    "t1.start()\n",
    "t2.start()\n",
    "\n",
    "t1.join()\n",
    "t2.join()\n",
    "\n",
    "print(f\"The final counter is {counter}\")"
   ]
  },
  {
   "cell_type": "code",
   "execution_count": 4,
   "metadata": {},
   "outputs": [
    {
     "name": "stdout",
     "output_type": "stream",
     "text": [
      "counter=10\n",
      "counter=30\n",
      "The final counter is 30\n"
     ]
    }
   ],
   "source": [
    "from threading import Thread, Lock\n",
    "from time import sleep\n",
    "\n",
    "\n",
    "counter = 0\n",
    "\n",
    "def increase(by, lock):\n",
    "    global counter\n",
    "\n",
    "    with lock:\n",
    "        local_counter = counter\n",
    "        local_counter += by\n",
    "\n",
    "        sleep(0.1)\n",
    "\n",
    "        counter = local_counter\n",
    "        print(f'counter={counter}')\n",
    "\n",
    "\n",
    "lock = Lock()\n",
    "\n",
    "# create threads\n",
    "t1 = Thread(target=increase, args=(10, lock))\n",
    "t2 = Thread(target=increase, args=(20, lock))\n",
    "\n",
    "# start the threads\n",
    "t1.start()\n",
    "t2.start()\n",
    "\n",
    "\n",
    "# wait for the threads to complete\n",
    "t1.join()\n",
    "t2.join()\n",
    "\n",
    "\n",
    "print(f'The final counter is {counter}')"
   ]
  },
  {
   "cell_type": "markdown",
   "metadata": {},
   "source": [
    "### Event\n",
    "\n",
    "Sometimes you need to communicate between the threads. To do that you can use a lock(mutex) and a boolean variable\n",
    "\n",
    "However Python provides you with a better way to communicate between threads using the `Event` class from the threading module \n",
    "\n",
    "The `Event` class offers a simple but effective way to coordinate between threads: one thread signals an event while other threads wait for it.\n"
   ]
  },
  {
   "cell_type": "code",
   "execution_count": 3,
   "metadata": {},
   "outputs": [
    {
     "name": "stdout",
     "output_type": "stream",
     "text": [
      "Thread 1 started. Waiting for the signal...\n",
      "Thread 2 started. Waiting for the signal...\n",
      "Blocking the main thread for 3 seconds...\n",
      "Received Signal. The thread 2 was completed\n",
      "Received Signal. The thread 1 was completed\n"
     ]
    }
   ],
   "source": [
    "from threading import Thread, Event\n",
    "from time import sleep\n",
    "\n",
    "def task(event: Event, id: int) -> None:\n",
    "    print(f\"Thread {id} started. Waiting for the signal...\")\n",
    "    event.wait()\n",
    "    print(f\"Received Signal. The thread {id} was completed\")\n",
    "\n",
    "\n",
    "def main():\n",
    "    event = Event()\n",
    "\n",
    "    t1 = Thread(target=task, args=(event, 1))\n",
    "    t2 = Thread(target=task, args=(event, 2))\n",
    "\n",
    "    t1.start()\n",
    "    t2.start()\n",
    "\n",
    "    print(\"Blocking the main thread for 3 seconds...\")\n",
    "    sleep(3)\n",
    "    event.set()\n",
    "\n",
    "if __name__ == \"__main__\":\n",
    "    main()\n"
   ]
  },
  {
   "cell_type": "markdown",
   "metadata": {},
   "source": []
  },
  {
   "cell_type": "code",
   "execution_count": 3,
   "metadata": {},
   "outputs": [
    {
     "name": "stdout",
     "output_type": "stream",
     "text": [
      "Downloading the file https://tools.ietf.org/rfc/rfc793.txt...\n",
      "Waiting for the file to be downloaded...\n",
      "File download completed. Start processing...\n",
      "Number of words in the file: 21369\n",
      "Main thread completed\n"
     ]
    }
   ],
   "source": [
    "from threading import Thread, Event\n",
    "from urllib import request\n",
    "\n",
    "def download_file(url, event):\n",
    "    print(f\"Downloading the file {url}...\")\n",
    "    \n",
    "    filename, _ = request.urlretrieve(url, \"rfc793.txt\")\n",
    "\n",
    "\n",
    "    event.set()\n",
    "\n",
    "def process_file(event):\n",
    "    print(\"Waiting for the file to be downloaded...\")\n",
    "    event.wait()\n",
    "\n",
    "    print(\"File download completed. Start processing...\")\n",
    "\n",
    "    word_count = 0\n",
    "\n",
    "    with open(\"rfc793.txt\", \"r\") as f:\n",
    "        for line in f:\n",
    "            word_count += len(line.split())\n",
    "\n",
    "    print(f\"Number of words in the file: {word_count}\")\n",
    "\n",
    "\n",
    "def main():\n",
    "    event = Event()\n",
    "\n",
    "    download_thread = Thread(target=download_file, args=(\"https://tools.ietf.org/rfc/rfc793.txt\", event))\n",
    "    process_thread = Thread(target=process_file, args=(event, ))\n",
    "\n",
    "    download_thread.start()\n",
    "    process_thread.start()\n",
    "\n",
    "    download_thread.join()\n",
    "    process_thread.join()\n",
    "\n",
    "    print(\"Main thread completed\")\n",
    "\n",
    "if __name__ == \"__main__\":\n",
    "    main()\n"
   ]
  },
  {
   "cell_type": "markdown",
   "metadata": {},
   "source": [
    "### Stop Threads\n",
    "\n",
    "To stop thread you use the Event class of the threading module.\n",
    "\n",
    "In the `Event` class, the `set()` method sets the internal flag to `True` while the `clear()` method resets the flag to `False`. Also the `is_set()` method returns `True` if the internal flag is set to True\n",
    "\n",
    "![image](../images/stop_thread.png)\n"
   ]
  },
  {
   "cell_type": "code",
   "execution_count": 4,
   "metadata": {},
   "outputs": [
    {
     "name": "stdout",
     "output_type": "stream",
     "text": [
      "Running #1\n",
      "Running #2\n",
      "Running #3\n",
      "Running #4\n"
     ]
    },
    {
     "name": "stdout",
     "output_type": "stream",
     "text": [
      "The Thread was stopped permaturely\n"
     ]
    }
   ],
   "source": [
    "from threading import Thread, Event\n",
    "from time import sleep\n",
    "\n",
    "def task(event: Event):\n",
    "    for i in range(6):\n",
    "        print(f\"Running #{i+1}\")\n",
    "        sleep(1)\n",
    "        if event.is_set():\n",
    "            print(\"The Thread was stopped permaturely\")\n",
    "            break\n",
    "    else:\n",
    "        print(\"The thread was stopped maturely.\")\n",
    "    \n",
    "\n",
    "def main():\n",
    "    event = Event()\n",
    "\n",
    "    thread = Thread(target=task, args=(event, ))\n",
    "    thread.start()\n",
    "\n",
    "    sleep(3)\n",
    "\n",
    "    event.set()\n",
    "\n",
    "\n",
    "if __name__ == \"__main__\":\n",
    "    main()"
   ]
  },
  {
   "cell_type": "markdown",
   "metadata": {},
   "source": [
    "## Semaphore\n",
    "\n",
    "A Python semaphore is a synchronization primitive that allows you to control access to a shared resource. Basically, a semaphore is a counter associated with a lock that limits the number of threads that can access a shared resource simultaneously\n",
    "\n",
    "A Semaphore helps prevent thread synchronization issues like race conditions, where multiple threads attempt to access the resource at the same tiem and interfere the semapthos checks the count"
   ]
  },
  {
   "cell_type": "code",
   "execution_count": 5,
   "metadata": {},
   "outputs": [
    {
     "name": "stdout",
     "output_type": "stream",
     "text": [
      "Downloading https://www.ietf.org/rfc/rfc791.txt...\n",
      "Downloading https://www.ietf.org/rfc/rfc792.txt...\n",
      "Downloading https://www.ietf.org/rfc/rfc793.txt...\n",
      "Finished downloading https://www.ietf.org/rfc/rfc793.txt\n",
      "Downloading https://www.ietf.org/rfc/rfc794.txt...\n",
      "Finished downloading https://www.ietf.org/rfc/rfc792.txt\n",
      "Downloading https://www.ietf.org/rfc/rfc795.txt...\n",
      "Finished downloading https://www.ietf.org/rfc/rfc791.txt\n",
      "Finished downloading https://www.ietf.org/rfc/rfc795.txt\n",
      "Finished downloading https://www.ietf.org/rfc/rfc794.txt\n"
     ]
    }
   ],
   "source": [
    "from threading import Semaphore, Thread\n",
    "from urllib import request\n",
    "\n",
    "MAX_CONCURRENT_DOWNLOADS = 3\n",
    "semaphore = Semaphore(MAX_CONCURRENT_DOWNLOADS)\n",
    "\n",
    "def download(url):\n",
    "    with semaphore:\n",
    "        print(f\"Downloading {url}...\")\n",
    "\n",
    "        response = request.urlopen(url)\n",
    "        data = response.read()\n",
    "\n",
    "        print(f'Finished downloading {url}')\n",
    "        \n",
    "        return data\n",
    "    \n",
    "def main():\n",
    "    urls = [\n",
    "        'https://www.ietf.org/rfc/rfc791.txt',\n",
    "        'https://www.ietf.org/rfc/rfc792.txt',\n",
    "        'https://www.ietf.org/rfc/rfc793.txt',\n",
    "        'https://www.ietf.org/rfc/rfc794.txt',\n",
    "        'https://www.ietf.org/rfc/rfc795.txt',\n",
    "    ]\n",
    "\n",
    "    # Create threads for each download\n",
    "    threads = []\n",
    "    for url in urls:\n",
    "        thread = Thread(target=download, args=(url,))\n",
    "        threads.append(thread)\n",
    "        thread.start()\n",
    "\n",
    "    # Wait for all threads to complete\n",
    "    for thread in threads:\n",
    "        thread.join()\n",
    "\n",
    "\n",
    "if __name__ == '__main__':\n",
    "    main()"
   ]
  },
  {
   "cell_type": "markdown",
   "metadata": {},
   "source": [
    "## Queue\n",
    "\n",
    "The built-in queue module allows you to exchange data safely between multiple threads."
   ]
  },
  {
   "cell_type": "code",
   "execution_count": 7,
   "metadata": {},
   "outputs": [
    {
     "name": "stdout",
     "output_type": "stream",
     "text": [
      "Inserting itme 1 into the queue\n",
      "Inserting itme 2 into the queueProcessing item 1\n",
      "\n",
      "Inserting itme 3 into the queue\n",
      "Processing item 2Inserting itme 4 into the queue\n",
      "\n",
      "Inserting itme 5 into the queue\n",
      "Processing item 3\n",
      "Processing item 4\n",
      "Processing item 5\n"
     ]
    }
   ],
   "source": [
    "import time\n",
    "from queue import Empty, Queue\n",
    "from threading import Thread\n",
    "\n",
    "def producer(queue: Queue):\n",
    "    for i in range(1, 6):\n",
    "        print(f\"Inserting itme {i} into the queue\")\n",
    "        time.sleep(1)\n",
    "        queue.put(i)\n",
    "\n",
    "\n",
    "def consumer(queue: Queue):\n",
    "    while True:\n",
    "        try:\n",
    "            item = queue.get()\n",
    "        except Empty:\n",
    "            continue\n",
    "        else:\n",
    "            print(f\"Processing item {item}\")\n",
    "            time.sleep(2)\n",
    "            queue.task_done()\n",
    "\n",
    "\n",
    "def main():\n",
    "    queue = Queue()\n",
    "\n",
    "    producer_thread = Thread(target=producer, args=(queue,))\n",
    "    producer_thread.start()\n",
    "\n",
    "    consumer_thread = Thread(target=consumer, args=(queue,), daemon=True)\n",
    "\n",
    "    consumer_thread.start()\n",
    "\n",
    "    producer_thread.join()\n",
    "\n",
    "    queue.join()\n",
    "\n",
    "\n",
    "main()"
   ]
  },
  {
   "cell_type": "markdown",
   "metadata": {},
   "source": [
    "# Multiprocessing\n",
    "\n",
    "![image](../images/difference_multiprocessing.png)"
   ]
  }
 ],
 "metadata": {
  "kernelspec": {
   "display_name": "Python 3",
   "language": "python",
   "name": "python3"
  },
  "language_info": {
   "codemirror_mode": {
    "name": "ipython",
    "version": 3
   },
   "file_extension": ".py",
   "mimetype": "text/x-python",
   "name": "python",
   "nbconvert_exporter": "python",
   "pygments_lexer": "ipython3",
   "version": "3.12.3"
  }
 },
 "nbformat": 4,
 "nbformat_minor": 2
}
