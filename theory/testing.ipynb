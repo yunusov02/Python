{
 "cells": [
  {
   "cell_type": "markdown",
   "metadata": {},
   "source": [
    "# Unit Testing"
   ]
  },
  {
   "cell_type": "markdown",
   "metadata": {},
   "source": [
    "## 1. Introduction to unit testing in Python"
   ]
  },
  {
   "cell_type": "markdown",
   "metadata": {},
   "source": [
    "A unit test is an automated test that:\n",
    "- Verifies a small piece of code called unit. A unit can be a function or a method of class\n",
    "- Run vert fast\n",
    "- Executes in an isolated manner\n"
   ]
  },
  {
   "cell_type": "markdown",
   "metadata": {},
   "source": [
    "**Python `unitest` example**"
   ]
  },
  {
   "cell_type": "code",
   "execution_count": 7,
   "metadata": {},
   "outputs": [
    {
     "name": "stderr",
     "output_type": "stream",
     "text": [
      ".\n",
      "----------------------------------------------------------------------\n",
      "Ran 1 test in 0.002s\n",
      "\n",
      "OK\n"
     ]
    },
    {
     "data": {
      "text/plain": [
       "<unittest.main.TestProgram at 0x7a4bd063ed80>"
      ]
     },
     "execution_count": 7,
     "metadata": {},
     "output_type": "execute_result"
    }
   ],
   "source": [
    "import unittest\n",
    "\n",
    "class Square:\n",
    "    def __init__(self, length):\n",
    "        self.length = length\n",
    "    \n",
    "    def area(self):\n",
    "        return self.length ** 2\n",
    "\n",
    "\n",
    "# To create a test case you define a new class called TestSquare\n",
    "class TestSquare(unittest.TestCase):\n",
    "    def test_area(self):\n",
    "        square = Square(10)\n",
    "        area = square.area()\n",
    "        self.assertEqual(area, 100)\n",
    "\n",
    "\n",
    "unittest.main(argv=[''], exit=False) # Here it will represented for jupyter\n",
    "\n",
    "# if __name__ == \"__main__\":\n",
    "#     unittest.main()\n"
   ]
  },
  {
   "cell_type": "code",
   "execution_count": null,
   "metadata": {
    "vscode": {
     "languageId": "shellscript"
    }
   },
   "outputs": [],
   "source": [
    "python3 test_square.py # or without __name__ == \"__main__\"\n",
    "python3 -m unittest"
   ]
  },
  {
   "cell_type": "code",
   "execution_count": 9,
   "metadata": {},
   "outputs": [
    {
     "name": "stderr",
     "output_type": "stream",
     "text": [
      "...\n",
      "----------------------------------------------------------------------\n",
      "Ran 3 tests in 0.004s\n",
      "\n",
      "OK\n"
     ]
    },
    {
     "data": {
      "text/plain": [
       "<unittest.main.TestProgram at 0x7a4bd063e030>"
      ]
     },
     "execution_count": 9,
     "metadata": {},
     "output_type": "execute_result"
    }
   ],
   "source": [
    "import unittest\n",
    "\n",
    "class Square:\n",
    "    def __init__(self, length):\n",
    "        if type(length) not in [int, float]:\n",
    "            raise TypeError(\"Length must be an integer or float\")\n",
    "\n",
    "        if length <= 0:\n",
    "            raise ValueError(\"Length must be greater than zero\")\n",
    "\n",
    "        self.length = length\n",
    "    \n",
    "    def area(self):\n",
    "        return self.length ** 2\n",
    "\n",
    "class TestSquare(unittest.TestCase):\n",
    "    def test_area(self):\n",
    "        square = Square(10)\n",
    "        area = square.area()\n",
    "        self.assertEqual(area, 100)\n",
    "\n",
    "    def test_length_with_wrong_type(self):\n",
    "        with self.assertRaises(TypeError):\n",
    "            square = Square(\"10\")\n",
    "    \n",
    "    def test_length_with_zero_and_negative(self):\n",
    "        with self.assertRaises(ValueError):\n",
    "            square = Square(0)\n",
    "            square = Square(-1)\n",
    "\n",
    "unittest.main(argv=[''], exit=False)\n",
    "\n"
   ]
  },
  {
   "cell_type": "markdown",
   "metadata": {},
   "source": [
    "![](../images/test_organization.png)"
   ]
  }
 ],
 "metadata": {
  "kernelspec": {
   "display_name": "venv",
   "language": "python",
   "name": "python3"
  },
  "language_info": {
   "codemirror_mode": {
    "name": "ipython",
    "version": 3
   },
   "file_extension": ".py",
   "mimetype": "text/x-python",
   "name": "python",
   "nbconvert_exporter": "python",
   "pygments_lexer": "ipython3",
   "version": "3.12.3"
  }
 },
 "nbformat": 4,
 "nbformat_minor": 2
}
