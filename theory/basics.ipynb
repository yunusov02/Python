{
 "cells": [
  {
   "cell_type": "markdown",
   "metadata": {},
   "source": [
    "- Fundamentals\n",
    "- Operators\n",
    "- Control Flow\n",
    "- Functions\n",
    "- Lists\n",
    "- Dictionaries\n",
    "- Sets\n",
    "- Exception Handling\n",
    "- More on Python Loops\n",
    "- More on Python functions\n",
    "- Modules & Packages\n",
    "- Working with files\n",
    "- Working with Directories\n",
    "- Third-party Packages, PIP and Virtual Environments\n",
    "- Strings"
   ]
  },
  {
   "cell_type": "code",
   "execution_count": null,
   "metadata": {
    "vscode": {
     "languageId": "plaintext"
    }
   },
   "outputs": [],
   "source": [
    "print(\"Hello World\")"
   ]
  },
  {
   "cell_type": "code",
   "execution_count": null,
   "metadata": {
    "vscode": {
     "languageId": "plaintext"
    }
   },
   "outputs": [],
   "source": []
  }
 ],
 "metadata": {
  "language_info": {
   "name": "python"
  }
 },
 "nbformat": 4,
 "nbformat_minor": 2
}
