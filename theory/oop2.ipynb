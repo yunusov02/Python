{
 "cells": [
  {
   "cell_type": "code",
   "execution_count": 1,
   "id": "a8eecd00",
   "metadata": {},
   "outputs": [
    {
     "data": {
      "text/plain": [
       "'Alex'"
      ]
     },
     "execution_count": 1,
     "metadata": {},
     "output_type": "execute_result"
    }
   ],
   "source": [
    "class Person:\n",
    "    \n",
    "    counter = 1\n",
    "    \n",
    "    def __init__(self, name, age):\n",
    "        self.name = name\n",
    "        self.age = age\n",
    "\n",
    "p1 = Person(\"Alex\", 34)\n",
    "p1.name"
   ]
  },
  {
   "cell_type": "code",
   "execution_count": 2,
   "id": "7485e7b4",
   "metadata": {},
   "outputs": [
    {
     "data": {
      "text/plain": [
       "34"
      ]
     },
     "execution_count": 2,
     "metadata": {},
     "output_type": "execute_result"
    }
   ],
   "source": [
    "p1.age"
   ]
  },
  {
   "cell_type": "code",
   "execution_count": 3,
   "id": "136490db",
   "metadata": {},
   "outputs": [
    {
     "data": {
      "text/plain": [
       "1"
      ]
     },
     "execution_count": 3,
     "metadata": {},
     "output_type": "execute_result"
    }
   ],
   "source": [
    "p1.counter"
   ]
  },
  {
   "cell_type": "code",
   "execution_count": 5,
   "id": "94576d29",
   "metadata": {},
   "outputs": [
    {
     "data": {
      "text/plain": [
       "2"
      ]
     },
     "execution_count": 5,
     "metadata": {},
     "output_type": "execute_result"
    }
   ],
   "source": [
    "p1.counter = 2\n",
    "p1.counter"
   ]
  },
  {
   "cell_type": "code",
   "execution_count": 6,
   "id": "25423411",
   "metadata": {},
   "outputs": [
    {
     "data": {
      "text/plain": [
       "1"
      ]
     },
     "execution_count": 6,
     "metadata": {},
     "output_type": "execute_result"
    }
   ],
   "source": [
    "Person.counter"
   ]
  },
  {
   "cell_type": "code",
   "execution_count": 3,
   "id": "7c0c6757",
   "metadata": {},
   "outputs": [
    {
     "name": "stdout",
     "output_type": "stream",
     "text": [
      "John Doe \t $6000\n",
      "Jane Doe \t $6500\n",
      "Jenifer Smith \t $10000\n",
      "David Wilson \t $15000\n",
      "Kevin Miller \t $15000\n"
     ]
    }
   ],
   "source": [
    "from abc import ABC, abstractmethod\n",
    "\n",
    "class Employee(ABC):\n",
    "    def __init__(self, first_name, last_name):\n",
    "        self.first_name = first_name\n",
    "        self.last_name = last_name\n",
    "    \n",
    "    @property\n",
    "    def full_name(self):\n",
    "        return f\"{self.first_name} {self.last_name}\"\n",
    "    \n",
    "    @abstractmethod\n",
    "    def get_salary(self):\n",
    "        pass\n",
    "\n",
    "class FullTimeEmployee(Employee):\n",
    "    def __init__(self, first_name, last_name, salary):\n",
    "        super().__init__(first_name, last_name)\n",
    "        self.salary = salary\n",
    "    \n",
    "    def get_salary(self):\n",
    "        return self.salary\n",
    "    \n",
    "class HourlyEmployee(Employee):\n",
    "    def __init__(self, first_name, last_name, worked_hours, rate):\n",
    "        super().__init__(first_name, last_name)\n",
    "        self.worked_hours = worked_hours\n",
    "        self.rate = rate\n",
    "    \n",
    "    def get_salary(self):\n",
    "        return self.worked_hours * self.rate\n",
    "\n",
    "class Payroll:\n",
    "    def __init__(self):\n",
    "        self.employee_list = []\n",
    "    \n",
    "    def add(self, employee):\n",
    "        self.employee_list.append(employee)\n",
    "    \n",
    "    def print(self):\n",
    "        for employee in self.employee_list:\n",
    "            print(f\"{employee.full_name} \\t ${employee.get_salary()}\")\n",
    "\n",
    "payroll = Payroll()\n",
    "\n",
    "payroll.add(FullTimeEmployee('John', 'Doe', 6000))\n",
    "payroll.add(FullTimeEmployee('Jane', 'Doe', 6500))\n",
    "payroll.add(HourlyEmployee('Jenifer', 'Smith', 200, 50))\n",
    "payroll.add(HourlyEmployee('David', 'Wilson', 150, 100))\n",
    "payroll.add(HourlyEmployee('Kevin', 'Miller', 100, 150))\n",
    "\n",
    "payroll.print()\n"
   ]
  },
  {
   "cell_type": "code",
   "execution_count": 4,
   "id": "50491439",
   "metadata": {},
   "outputs": [
    {
     "name": "stdout",
     "output_type": "stream",
     "text": [
      "TimeStamp Initialized\n",
      "LoggingMixin initialized\n",
      "My Class Initialized\n",
      "[LOG]: Processing started at 2025-01-31 14:14:56\n",
      "Doing Some Work...\n",
      "Doing Some Work...\n",
      "Doing Some Work...\n",
      "[LOG]: Processing finished at 2025-01-31 14:14:59\n"
     ]
    }
   ],
   "source": [
    "class LoggingMixin:\n",
    "    def __init__(self):\n",
    "        super().__init__()\n",
    "        print(\"LoggingMixin initialized\")\n",
    "    \n",
    "\n",
    "    def log(self, message):\n",
    "        print(f\"[LOG]: {message}\")\n",
    "\n",
    "class TimestampMixin:\n",
    "    def __init__(self):\n",
    "        super().__init__()\n",
    "        print(\"TimeStamp Initialized\")\n",
    "    \n",
    "    def get_timestamp(self):\n",
    "        from datetime import datetime\n",
    "        return datetime.now().strftime(\"%Y-%m-%d %H:%M:%S\")\n",
    "    \n",
    "\n",
    "class MyClass(LoggingMixin, TimestampMixin):\n",
    "    def __init__(self):\n",
    "        super().__init__()\n",
    "        print(\"My Class Initialized\")\n",
    "\n",
    "    def process(self):\n",
    "        self.log(f\"Processing started at {self.get_timestamp()}\")\n",
    "        from time import sleep\n",
    "        for _ in range(3):\n",
    "            print(\"Doing Some Work...\")\n",
    "            sleep(1)\n",
    "        self.log(f\"Processing finished at {self.get_timestamp()}\")\n",
    "\n",
    "obj = MyClass()\n",
    "obj.process()\n"
   ]
  },
  {
   "cell_type": "code",
   "execution_count": 5,
   "id": "e91ec83f",
   "metadata": {},
   "outputs": [
    {
     "name": "stdout",
     "output_type": "stream",
     "text": [
      "__set_name__ was called with owner=<class '__main__.Person'> and name=first_name\n",
      "__set_name__ was called with owner=<class '__main__.Person'> and name=last_name\n",
      "__set__ was called with instance = <__main__.Person object at 0x761cb10e3fe0> and value = John\n",
      "__set__ was called with instance = <__main__.Person object at 0x761cb10e3fe0> and value = Doe\n",
      "__get__ was called with instance=<__main__.Person object at 0x761cb10e3fe0> and owner=<class '__main__.Person'>\n",
      "__get__ was called with instance=<__main__.Person object at 0x761cb10e3fe0> and owner=<class '__main__.Person'>\n"
     ]
    }
   ],
   "source": [
    "class RequiredString:\n",
    "    def __set_name__(self, owner, name):\n",
    "        print(f\"__set_name__ was called with owner={owner} and name={name}\")\n",
    "        self.proprty_name = name\n",
    "    \n",
    "    def __get__(self, instance, owner):\n",
    "        print(f\"__get__ was called with instance={instance} and owner={owner}\")\n",
    "        if instance is None:\n",
    "            return self\n",
    "        \n",
    "        return instance.__dict__[self.proprty_name] or None\n",
    "    \n",
    "    def __set__(self, instance, value):\n",
    "        print(f\"__set__ was called with instance = {instance} and value = {value}\")\n",
    "\n",
    "        if not isinstance(value, str):\n",
    "            raise ValueError()\n",
    "\n",
    "        if len(value) == 0:\n",
    "            raise ValueError()\n",
    "        \n",
    "        instance.__dict__[self.proprty_name] = value\n",
    "\n",
    "\n",
    "class Person:\n",
    "    first_name = RequiredString()\n",
    "    last_name = RequiredString()\n",
    "\n",
    "    def __init__(self, f_name, l_name):\n",
    "        self.first_name = f_name\n",
    "        self.last_name = l_name\n",
    "\n",
    "person = Person(\"John\", \"Doe\")\n",
    "f_name = person.first_name\n",
    "l_name = person.last_name\n"
   ]
  },
  {
   "cell_type": "markdown",
   "id": "ef50df08",
   "metadata": {},
   "source": [
    "<h1>Singleton Examples</h1>"
   ]
  },
  {
   "cell_type": "code",
   "execution_count": null,
   "id": "a73c4839",
   "metadata": {},
   "outputs": [],
   "source": [
    "class Singleton:\n",
    "    _instance = None\n",
    "\n",
    "    def __new__(cls, *args, **kwargs):\n",
    "        if cls._instance is None:\n",
    "            cls._instance = super().__new__(cls)    \n",
    "        return cls._instance\n",
    "        "
   ]
  },
  {
   "cell_type": "code",
   "execution_count": null,
   "id": "65a7ebd5",
   "metadata": {},
   "outputs": [],
   "source": [
    "def singleton(cls):\n",
    "    instances = {}\n",
    "\n",
    "    def get_instance(*args, **kwargs):\n",
    "        if cls not in instances:\n",
    "            instances[cls] = cls(*args, **kwargs)\n",
    "        return instances[cls]\n",
    "    \n",
    "    return get_instance\n",
    "\n",
    "@singleton\n",
    "class Singleton:\n",
    "    def __init__(self):\n",
    "        print(\"Initialized\")"
   ]
  }
 ],
 "metadata": {
  "kernelspec": {
   "display_name": "Python 3",
   "language": "python",
   "name": "python3"
  },
  "language_info": {
   "codemirror_mode": {
    "name": "ipython",
    "version": 3
   },
   "file_extension": ".py",
   "mimetype": "text/x-python",
   "name": "python",
   "nbconvert_exporter": "python",
   "pygments_lexer": "ipython3",
   "version": "3.12.3"
  }
 },
 "nbformat": 4,
 "nbformat_minor": 5
}
