{
 "cells": [
  {
   "cell_type": "markdown",
   "metadata": {},
   "source": [
    "print(\"Hello World\")"
   ]
  },
  {
   "cell_type": "code",
   "execution_count": 3,
   "metadata": {},
   "outputs": [
    {
     "name": "stdout",
     "output_type": "stream",
     "text": [
      "0\n",
      "1\n",
      "2\n",
      "3\n",
      "4\n"
     ]
    }
   ],
   "source": [
    "for i in range(5):\n",
    "    print(i)"
   ]
  },
  {
   "cell_type": "markdown",
   "metadata": {},
   "source": [
    "## Garbage Collection"
   ]
  },
  {
   "cell_type": "markdown",
   "metadata": {},
   "source": [
    "In Python you don't have to manage the memory yourself because Python does it for you automatically"
   ]
  },
  {
   "cell_type": "code",
   "execution_count": null,
   "metadata": {},
   "outputs": [],
   "source": [
    "import gc\n",
    "import ctypes\n",
    "\n",
    "def ref_count(address):\n",
    "    return ctypes.c_long.from_address(address).value\n",
    "\n",
    "def object_exists(object_id):\n",
    "    for object in gc.get_objects():\n",
    "        if id(object) == object_id:\n",
    "            return True\n",
    "    \n",
    "    return False"
   ]
  },
  {
   "cell_type": "markdown",
   "metadata": {},
   "source": [
    "### Decorators"
   ]
  },
  {
   "cell_type": "markdown",
   "metadata": {},
   "source": [
    "**Regular Decorators**"
   ]
  },
  {
   "cell_type": "code",
   "execution_count": 5,
   "metadata": {},
   "outputs": [
    {
     "name": "stdout",
     "output_type": "stream",
     "text": [
      "$ 132.0\n"
     ]
    }
   ],
   "source": [
    "from functools import wraps\n",
    "\n",
    "def currency(fn):\n",
    "    # if we don't add @wraps(fn) it will take wrapper function __doc__\n",
    "    @wraps(fn)\n",
    "    def wrapper(*args, **kwargs):\n",
    "        result = fn(*args, **kwargs)\n",
    "        return f\"$ {result}\"\n",
    "    return wrapper\n",
    "\n",
    "@currency\n",
    "def net_price(price, tax):\n",
    "    \"\"\"\n",
    "    calculate the net price from price and tax\n",
    "    Arguments:\n",
    "        price: the selling price\n",
    "        tax: value added tax or sale tax\n",
    "    Return:\n",
    "        the net price\n",
    "    \"\"\"\n",
    "    return price * (1 + tax)\n",
    "\n",
    "\n",
    "# help(net_price)\n",
    "\n",
    "res = net_price(100, 0.32)\n",
    "print(res)"
   ]
  },
  {
   "cell_type": "markdown",
   "metadata": {},
   "source": [
    "**Decorators with arguments**"
   ]
  },
  {
   "cell_type": "code",
   "execution_count": 8,
   "metadata": {},
   "outputs": [
    {
     "name": "stdout",
     "output_type": "stream",
     "text": [
      "Hello\n",
      "Hello\n",
      "Hello\n",
      "Hello\n",
      "Hello\n"
     ]
    }
   ],
   "source": [
    "\n",
    "def repeat(fn):\n",
    "    @wraps(fn)\n",
    "    def wrapper(*args, **kwargs):\n",
    "\n",
    "        for _ in range(5):\n",
    "            fn(*args, **kwargs)\n",
    "        \n",
    "        return None\n",
    "\n",
    "    return wrapper\n",
    "\n",
    "@repeat\n",
    "def say(message):\n",
    "    print(message)\n",
    "\n",
    "say(\"Hello\")"
   ]
  },
  {
   "cell_type": "code",
   "execution_count": 9,
   "metadata": {},
   "outputs": [
    {
     "name": "stdout",
     "output_type": "stream",
     "text": [
      "1 Hello\n",
      "1 Hello\n",
      "1 Hello\n",
      "1 Hello\n",
      "1 Hello\n",
      "1 Hello\n",
      "1 Hello\n",
      "1 Hello\n",
      "1 Hello\n",
      "1 Hello\n"
     ]
    }
   ],
   "source": [
    "def repeat(times):\n",
    "    def decoreate(fn):\n",
    "        @wraps(fn)\n",
    "        def wrapper(*args, **kwargs):\n",
    "\n",
    "            for _ in range(times):\n",
    "                fn(*args, **kwargs)\n",
    "            \n",
    "            return None\n",
    "        return wrapper\n",
    "    return decoreate\n",
    "\n",
    "@repeat(times=10)\n",
    "def say(message):\n",
    "    print(f\"{i} {message}\")\n",
    "\n",
    "\n",
    "say(\"Hello\")\n"
   ]
  },
  {
   "cell_type": "markdown",
   "metadata": {},
   "source": [
    "**Class Decorators**"
   ]
  },
  {
   "cell_type": "code",
   "execution_count": 3,
   "metadata": {},
   "outputs": [
    {
     "name": "stdout",
     "output_type": "stream",
     "text": [
      "*****\n",
      "30\n",
      "*****\n"
     ]
    }
   ],
   "source": [
    "class Star:\n",
    "    def __init__(self, n) -> None:\n",
    "        self.n = n\n",
    "\n",
    "    def __call__(self, fn):\n",
    "        def wrapper(*args, **kwargs):\n",
    "            print(self.n * \"*\")\n",
    "            result = fn(*args, **kwargs)\n",
    "            print(result)\n",
    "            print(self.n * \"*\")\n",
    "            return result\n",
    "        return wrapper\n",
    "    \n",
    "@Star(5)\n",
    "def add(a, b):\n",
    "    return a + b\n",
    "\n",
    "summ = add(10, 20)"
   ]
  },
  {
   "cell_type": "markdown",
   "metadata": {},
   "source": [
    "## Introduction to Python monkey patching\n",
    "Monkey patching is a technique that allows you to modify or extend the behaviour of existing modules classes or functions at runtime without changing the original source code\n",
    "\n",
    "**Example**"
   ]
  },
  {
   "cell_type": "code",
   "execution_count": null,
   "metadata": {},
   "outputs": [
    {
     "name": "stdout",
     "output_type": "stream",
     "text": [
      "HI\n"
     ]
    }
   ],
   "source": [
    "\"\"\"\n",
    "def add_speech(cls):\n",
    "    cls.speak = lambda self, message: print(message)\n",
    "    return cls\n",
    "\n",
    "class Roboot:\n",
    "    def __init__(self, name):\n",
    "        self.name = name\n",
    "    \n",
    "    def add_speech(cls):\n",
    "        cls.speak = lambda self, message: print(message)\n",
    "        return cls\n",
    "\n",
    "Roboot = add_speech(Roboot)\n",
    "\n",
    "roboot = Roboot(\"Optimus Prime\")\n",
    "roboot.speak(\"HI\")\n",
    "\"\"\"\n",
    "\n",
    "def add_speech(cls):\n",
    "    cls.speak = lambda self, message: print(message)\n",
    "    return cls\n",
    "\n",
    "@add_speech\n",
    "class Roboot:\n",
    "    def __init__(self, name):\n",
    "        self.name = name\n",
    "    \n",
    "    # def add_speech(cls):\n",
    "    #     cls.speak = lambda self, message: print(message)\n",
    "    #     return cls\n",
    "\n",
    "roboot = Roboot(\"Optimus Prime\")\n",
    "roboot.speak(\"HI\")"
   ]
  }
 ],
 "metadata": {
  "kernelspec": {
   "display_name": "Python 3",
   "language": "python",
   "name": "python3"
  },
  "language_info": {
   "codemirror_mode": {
    "name": "ipython",
    "version": 3
   },
   "file_extension": ".py",
   "mimetype": "text/x-python",
   "name": "python",
   "nbconvert_exporter": "python",
   "pygments_lexer": "ipython3",
   "version": "3.12.3"
  }
 },
 "nbformat": 4,
 "nbformat_minor": 2
}
